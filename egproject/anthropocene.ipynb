{
 "cells": [
  {
   "cell_type": "code",
   "execution_count": null,
   "metadata": {},
   "outputs": [],
   "source": [
    "#Dependencies\n",
    "import pandas as pd\n",
    "import numpy as np\n",
    "from random import normalvariate\n",
    "import plotly.express as px\n",
    "\n",
    "from cadCAD.configuration.utils import config_sim\n",
    "from cadCAD.configuration import Experiment\n",
    "from cadCAD.engine import ExecutionContext, Executor"
   ]
  },
  {
   "cell_type": "code",
   "execution_count": null,
   "metadata": {},
   "outputs": [],
   "source": [
    "#State variables\n",
    "initial_state = {\n",
    "    'co2': 400,\n",
    "    'temperature': 290\n",
    "}"
   ]
  },
  {
   "cell_type": "code",
   "execution_count": null,
   "metadata": {},
   "outputs": [],
   "source": [
    "#System parameters\n",
    "system_params = {\n",
    "    'sun_radiation': [1361],\n",
    "    'temperature_constant': [1e-4],\n",
    "    'co2_reflectance_factor': [1e-3],\n",
    "    'co2_gigatons_to_ppm': [1.2e-1],\n",
    "    'co2_stdev': [40],\n",
    "    'heat_dissipation_constant': [2075],\n",
    "    'co2_annual_emissions': [40, 80, 40, 80, 40, 80, 40, 80],\n",
    "    'year_of_the_wakening': [0, 0, 10, 10, 50, 50, 100, 100]\n",
    "}"
   ]
  },
  {
   "cell_type": "code",
   "execution_count": null,
   "metadata": {},
   "outputs": [],
   "source": [
    "assert 1e10 == 1*10**10"
   ]
  },
  {
   "cell_type": "code",
   "execution_count": null,
   "metadata": {},
   "outputs": [],
   "source": [
    "#Policy functions\n",
    "def p_co2_emissions(params, \n",
    "                    subbstep, \n",
    "                    state_history, \n",
    "                    previous_state):\n",
    "    # Parameters & variables\n",
    "    mean = params['co2_annual_emissions']\n",
    "    std = params['co2_stdev']\n",
    "    conversion_factor = params['co2_gigatons_to_ppm']\n",
    "    t_w = params['year_of_the_wakening']\n",
    "    t = previous_state['timestep']\n",
    "    \n",
    "    # Logic\n",
    "    if t > t_w:\n",
    "        mean = 0\n",
    "    else:\n",
    "        mean = mean\n",
    "    value = normalvariate(mean, std) * conversion_factor\n",
    "\n",
    "    # Output\n",
    "    return {'add_co2': value}"
   ]
  },
  {
   "cell_type": "code",
   "execution_count": null,
   "metadata": {},
   "outputs": [],
   "source": [
    "def p_sun_radiation(params, \n",
    "                    substep, \n",
    "                    state_history, \n",
    "                    previous_state):\n",
    "    # Parameters & variables\n",
    "    g = params['temperature_constant']\n",
    "    a = params['sun_radiation']\n",
    "    \n",
    "    # Logic\n",
    "    temp_change = g * a\n",
    "    \n",
    "    # Output\n",
    "    return {'add_temperature': temp_change}"
   ]
  },
  {
   "cell_type": "code",
   "execution_count": null,
   "metadata": {},
   "outputs": [],
   "source": [
    "def p_earth_cooling(params, \n",
    "                    substep, \n",
    "                    state_history, \n",
    "                    previous_state):\n",
    "    # Parameters & variables\n",
    "    g = params['temperature_constant']\n",
    "    K = params['heat_dissipation_constant']\n",
    "    T = previous_state['temperature']\n",
    "    \n",
    "    # Logic\n",
    "    temp_change = -(g * K * (T / 300) ** 4)\n",
    "    \n",
    "    # Output\n",
    "    return {'add_temperature': temp_change}"
   ]
  },
  {
   "cell_type": "code",
   "execution_count": null,
   "metadata": {},
   "outputs": [],
   "source": [
    "def p_greenhouse_effect(params, \n",
    "                        substep, \n",
    "                        state_history, \n",
    "                        previous_state):\n",
    "    # Parameters & variables\n",
    "    g = params['temperature_constant']\n",
    "    K = params['heat_dissipation_constant']\n",
    "    beta = params['co2_reflectance_factor']\n",
    "    T = previous_state['temperature']\n",
    "    CO2 = previous_state['co2']\n",
    "    \n",
    "    # Logic\n",
    "    alpha = (1 - np.exp(-beta * CO2))\n",
    "    temp_change = g * alpha * K * (T / 300) ** 4\n",
    "    \n",
    "    # Output\n",
    "    return {'add_temperature': temp_change}"
   ]
  },
  {
   "cell_type": "code",
   "execution_count": null,
   "metadata": {},
   "outputs": [],
   "source": [
    "#State update functions\n",
    "def s_co2(params, \n",
    "          substep, \n",
    "          state_history, \n",
    "          previous_state,\n",
    "          policy_input):\n",
    "    # Parameters & variables\n",
    "    current_co2 = previous_state['co2']\n",
    "    co2_change = policy_input['add_co2']\n",
    "    \n",
    "    # Logic\n",
    "    new_co2 = max(current_co2 + co2_change, 0)\n",
    "    \n",
    "    # Output\n",
    "    return ('co2', new_co2)"
   ]
  },
  {
   "cell_type": "code",
   "execution_count": null,
   "metadata": {},
   "outputs": [],
   "source": [
    "def s_temperature(params, \n",
    "                  substep, \n",
    "                  state_history, \n",
    "                  previous_state,\n",
    "                  policy_input):\n",
    "    # Parameters & variables\n",
    "    current_temp = previous_state['temperature']\n",
    "    temp_change = policy_input['add_temperature']\n",
    "    \n",
    "    # Logic\n",
    "    new_temp = max(current_temp + temp_change, 0)\n",
    "    \n",
    "    # Output\n",
    "    return ('temperature', new_temp)"
   ]
  },
  {
   "cell_type": "code",
   "execution_count": null,
   "metadata": {},
   "outputs": [],
   "source": [
    "partial_state_update_blocks = [\n",
    "    {\n",
    "        'label': 'Temperature dynamics', # Useful metadata to describe our partial state update blocks\n",
    "        'policies': {\n",
    "            'sun_radiation': p_sun_radiation,\n",
    "            'earth_cooling': p_earth_cooling,\n",
    "            'greenhouse_effect': p_greenhouse_effect\n",
    "        },\n",
    "        'variables': {\n",
    "            'temperature': s_temperature\n",
    "            \n",
    "        }\n",
    "    },\n",
    "    {\n",
    "        'label': 'CO2 dynamics', # Useful metadata to describe our partial state update blocks\n",
    "        'policies': {\n",
    "            'co2_emissions': p_co2_emissions\n",
    "        },\n",
    "        'variables': {\n",
    "            'co2': s_co2\n",
    "        }\n",
    "        \n",
    "    }\n",
    "]\n"
   ]
  },
  {
   "cell_type": "code",
   "execution_count": null,
   "metadata": {},
   "outputs": [],
   "source": [
    "#Configuration\n",
    "MONTE_CARLO_RUNS = 50\n",
    "SIMULATION_TIMESTEPS = 100\n",
    "\n",
    "sim_config = config_sim(\n",
    "    {\n",
    "        'N': MONTE_CARLO_RUNS,\n",
    "        'T': range(SIMULATION_TIMESTEPS),\n",
    "        'M': system_params,\n",
    "    }\n",
    ")\n",
    "\n",
    "from cadCAD import configs\n",
    "del configs[:] # Clear any prior configs\n",
    "\n",
    "experiment = Experiment()\n",
    "experiment.append_configs(\n",
    "    sim_configs=sim_config,\n",
    "    initial_state=initial_state,\n",
    "    partial_state_update_blocks=partial_state_update_blocks\n",
    ")"
   ]
  },
  {
   "cell_type": "code",
   "execution_count": null,
   "metadata": {},
   "outputs": [],
   "source": [
    "#Execution\n",
    "exec_context = ExecutionContext()\n",
    "run = Executor(exec_context=exec_context, configs=configs)\n",
    "\n",
    "(system_events, tensor_field, sessions) = run.execute()"
   ]
  },
  {
   "cell_type": "code",
   "execution_count": null,
   "metadata": {},
   "outputs": [],
   "source": [
    "#Simulation output preperation\n",
    "\n",
    "# Get system events and attribute index\n",
    "df = (pd.DataFrame(system_events)\n",
    "        .assign(years=lambda df: df.timestep)\n",
    "        .assign(temperature_celsius=lambda df: df.temperature - 273)\n",
    "        .query('timestep > 0')\n",
    "     )\n",
    "\n",
    "# Clean substeps\n",
    "first_ind = (df.substep == 0) & (df.timestep == 0)\n",
    "last_ind = df.substep == max(df.substep)\n",
    "inds_to_drop = (first_ind | last_ind)\n",
    "df = df.loc[inds_to_drop].drop(columns=['substep'])\n",
    "\n",
    "# Attribute parameters to each row\n",
    "df = df.assign(**configs[0].sim_config['M'])\n",
    "for i, (_, n_df) in enumerate(df.groupby(['simulation', 'subset', 'run'])):\n",
    "    df.loc[n_df.index] = n_df.assign(**configs[i].sim_config['M'])"
   ]
  },
  {
   "cell_type": "markdown",
   "metadata": {},
   "source": [
    "### Analysis 1: How will the Earth's average temperature develop over the next 100 years, if we keep CO2 emissions unchanged at today’s annual emission levels vs. a doubling of today’s emission levels?"
   ]
  },
  {
   "cell_type": "code",
   "execution_count": null,
   "metadata": {},
   "outputs": [],
   "source": [
    "#System analysis\n",
    "fig_df = df.query('year_of_the_wakening == 100')\n",
    "\n",
    "fig = px.scatter(\n",
    "    fig_df,\n",
    "    x=fig_df.years,\n",
    "    y=fig_df.temperature_celsius,\n",
    "    color=fig_df.co2_annual_emissions.astype(str),\n",
    "    opacity=0.1,\n",
    "    trendline=\"lowess\",\n",
    "    labels={'color': 'Yearly CO2 emissions (Gt)'}\n",
    ")\n",
    "\n",
    "fig.show()"
   ]
  },
  {
   "cell_type": "code",
   "execution_count": null,
   "metadata": {},
   "outputs": [],
   "source": [
    "fig_df = df.query('year_of_the_wakening == 100')\n",
    "\n",
    "fig = px.box(\n",
    "    fig_df,\n",
    "    x=fig_df.years,\n",
    "    y=fig_df.temperature_celsius,\n",
    "    color=fig_df.co2_annual_emissions.astype(str),\n",
    "    points=False,\n",
    "    labels={'color': 'Yearly CO2 emissions (Gt)'}\n",
    ")\n",
    "\n",
    "fig.show()"
   ]
  },
  {
   "cell_type": "markdown",
   "metadata": {},
   "source": [
    "### Analysis 2: How will the rate of annual temperature change develop over the next 100 years if we keep CO2 emissions unchanged at today’s annual emission levels vs. a doubling of today’s emission levels?"
   ]
  },
  {
   "cell_type": "code",
   "execution_count": null,
   "metadata": {},
   "outputs": [],
   "source": [
    "fig_df = (df.query('year_of_the_wakening == 100')\n",
    "            .assign(annual_temperature_increase=lambda df: df.temperature.diff())\n",
    "            .query('years > 1'))\n",
    "\n",
    "fig = px.scatter(\n",
    "    fig_df,\n",
    "    x=fig_df.years,\n",
    "    y=fig_df.annual_temperature_increase,\n",
    "    opacity=0.1,\n",
    "    trendline=\"lowess\",\n",
    "    color=fig_df.co2_annual_emissions.astype(str),\n",
    "    labels={'color': 'Yearly CO2 emissions (Gt)'}\n",
    ")\n",
    "\n",
    "fig.show()"
   ]
  }
 ],
 "metadata": {
  "kernelspec": {
   "display_name": "Python 3.10.4 64-bit",
   "language": "python",
   "name": "python3"
  },
  "language_info": {
   "codemirror_mode": {
    "name": "ipython",
    "version": 3
   },
   "file_extension": ".py",
   "mimetype": "text/x-python",
   "name": "python",
   "nbconvert_exporter": "python",
   "pygments_lexer": "ipython3",
   "version": "3.10.4"
  },
  "orig_nbformat": 4,
  "vscode": {
   "interpreter": {
    "hash": "aee8b7b246df8f9039afb4144a1f6fd8d2ca17a180786b69acc140d282b71a49"
   }
  }
 },
 "nbformat": 4,
 "nbformat_minor": 2
}
